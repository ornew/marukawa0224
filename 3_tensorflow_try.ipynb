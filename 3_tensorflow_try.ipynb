{
 "cells": [
  {
   "cell_type": "markdown",
   "metadata": {},
   "source": [
    "## 実践課題"
   ]
  },
  {
   "cell_type": "code",
   "execution_count": 1,
   "metadata": {},
   "outputs": [],
   "source": [
    "%matplotlib inline\n",
    "import os\n",
    "import matplotlib.pyplot as plt\n",
    "import numpy as np\n",
    "import tensorflow as tf"
   ]
  },
  {
   "cell_type": "code",
   "execution_count": 25,
   "metadata": {},
   "outputs": [],
   "source": [
    "def train_input_fn(data_dir, params):\n",
    "    #\n",
    "    \n",
    "def eval_input_fn(data_dir, params):\n",
    "    #\n",
    "\n",
    "def serving_input_fn(params):\n",
    "    #"
   ]
  },
  {
   "cell_type": "code",
   "execution_count": 24,
   "metadata": {},
   "outputs": [],
   "source": [
    "def model_fn(features, labels, mode, params):\n",
    "    #"
   ]
  },
  {
   "cell_type": "code",
   "execution_count": 27,
   "metadata": {},
   "outputs": [],
   "source": [
    "hyperparameters = {\n",
    "    #\n",
    "}"
   ]
  },
  {
   "cell_type": "code",
   "execution_count": 28,
   "metadata": {},
   "outputs": [
    {
     "name": "stdout",
     "output_type": "stream",
     "text": [
      "INFO:tensorflow:Using default config.\n",
      "WARNING:tensorflow:Using temporary folder as model directory: /var/folders/bz/h3h3tlr933z6t44j9mcjd8kc0000gn/T/tmpV6OJQi\n",
      "INFO:tensorflow:Using config: {'_save_checkpoints_secs': 600, '_session_config': None, '_keep_checkpoint_max': 5, '_task_type': 'worker', '_is_chief': True, '_cluster_spec': <tensorflow.python.training.server_lib.ClusterSpec object at 0x1256dfb90>, '_save_checkpoints_steps': None, '_keep_checkpoint_every_n_hours': 10000, '_service': None, '_num_ps_replicas': 0, '_tf_random_seed': None, '_master': '', '_num_worker_replicas': 1, '_task_id': 0, '_log_step_count_steps': 100, '_model_dir': '/var/folders/bz/h3h3tlr933z6t44j9mcjd8kc0000gn/T/tmpV6OJQi', '_save_summary_steps': 100}\n",
      "[<tf.Tensor 'losses/softmax_cross_entropy_loss/value:0' shape=() dtype=float32>]\n",
      "INFO:tensorflow:Create CheckpointSaverHook.\n",
      "INFO:tensorflow:Saving checkpoints for 1 into /var/folders/bz/h3h3tlr933z6t44j9mcjd8kc0000gn/T/tmpV6OJQi/model.ckpt.\n",
      "INFO:tensorflow:loss = 2.302633, step = 1\n",
      "INFO:tensorflow:Saving checkpoints for 10 into /var/folders/bz/h3h3tlr933z6t44j9mcjd8kc0000gn/T/tmpV6OJQi/model.ckpt.\n",
      "INFO:tensorflow:Loss for final step: 4.1761055.\n",
      "INFO:tensorflow:Restoring parameters from /var/folders/bz/h3h3tlr933z6t44j9mcjd8kc0000gn/T/tmpV6OJQi/model.ckpt-10\n",
      "INFO:tensorflow:Assets added to graph.\n",
      "INFO:tensorflow:No assets to write.\n",
      "INFO:tensorflow:SavedModel written to: model/temp-1519435535/saved_model.pb\n"
     ]
    },
    {
     "data": {
      "text/plain": [
       "'model/1519435535'"
      ]
     },
     "execution_count": 28,
     "metadata": {},
     "output_type": "execute_result"
    }
   ],
   "source": [
    "estimator = tf.estimator.Estimator(\n",
    "    model_fn=model_fn,\n",
    "    params=hyperparameters)\n",
    "\n",
    "estimator.train(\n",
    "    input_fn=lambda: train_input_fn('data/mnist', hyperparameters),\n",
    "    steps=10)\n",
    "\n",
    "features = {\n",
    "    #\n",
    "}\n",
    "estimator.export_savedmodel('model',\n",
    "    tf.estimator.export.build_raw_serving_input_receiver_fn(features))"
   ]
  },
  {
   "cell_type": "code",
   "execution_count": null,
   "metadata": {},
   "outputs": [],
   "source": []
  }
 ],
 "metadata": {
  "kernelspec": {
   "display_name": "Python 2",
   "language": "python",
   "name": "python2"
  },
  "language_info": {
   "codemirror_mode": {
    "name": "ipython",
    "version": 2
   },
   "file_extension": ".py",
   "mimetype": "text/x-python",
   "name": "python",
   "nbconvert_exporter": "python",
   "pygments_lexer": "ipython2",
   "version": "2.7.14"
  }
 },
 "nbformat": 4,
 "nbformat_minor": 2
}
